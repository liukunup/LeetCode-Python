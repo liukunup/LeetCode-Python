{
 "cells": [
  {
   "cell_type": "code",
   "execution_count": 20,
   "id": "6167a0cd-819a-4668-8f01-c6ae38b17141",
   "metadata": {},
   "outputs": [
    {
     "name": "stdout",
     "output_type": "stream",
     "text": [
      "Requirement already satisfied: requests in /opt/conda/lib/python3.10/site-packages (from -r requirements.txt (line 1)) (2.28.1)\n",
      "Requirement already satisfied: click in /opt/conda/lib/python3.10/site-packages (from -r requirements.txt (line 2)) (8.1.3)\n",
      "Requirement already satisfied: idna<4,>=2.5 in /opt/conda/lib/python3.10/site-packages (from requests->-r requirements.txt (line 1)) (3.4)\n",
      "Requirement already satisfied: charset-normalizer<3,>=2 in /opt/conda/lib/python3.10/site-packages (from requests->-r requirements.txt (line 1)) (2.1.1)\n",
      "Requirement already satisfied: certifi>=2017.4.17 in /opt/conda/lib/python3.10/site-packages (from requests->-r requirements.txt (line 1)) (2022.9.24)\n",
      "Requirement already satisfied: urllib3<1.27,>=1.21.1 in /opt/conda/lib/python3.10/site-packages (from requests->-r requirements.txt (line 1)) (1.26.11)\n",
      "Note: you may need to restart the kernel to use updated packages.\n",
      "Usage: pull.py [OPTIONS] COMMAND [ARGS]...\n",
      "\n",
      "Options:\n",
      "  --help  Show this message and exit.\n",
      "\n",
      "Commands:\n",
      "  crawler  LeetCode 题目爬取&生成代码\n"
     ]
    }
   ],
   "source": [
    "%pip install -r requirements.txt\n",
    "%run pull.py"
   ]
  },
  {
   "cell_type": "code",
   "execution_count": 21,
   "id": "1acf7572-4e0a-4118-8f8f-df6f9e779a37",
   "metadata": {},
   "outputs": [],
   "source": [
    "# Example https://leetcode.cn/problems/two-sum/\n",
    "url=\"https://leetcode.cn/problems/two-sum/\""
   ]
  },
  {
   "cell_type": "code",
   "execution_count": 22,
   "id": "537daa1f-7d3b-4751-8207-72c791cf1c44",
   "metadata": {},
   "outputs": [],
   "source": [
    "# Execute\n",
    "inst = LeetCodeCrawler()\n",
    "inst.execute(question_url=url)"
   ]
  },
  {
   "cell_type": "code",
   "execution_count": null,
   "id": "f6296f07-64ff-42bc-a304-d6d92ad2391f",
   "metadata": {},
   "outputs": [],
   "source": []
  }
 ],
 "metadata": {
  "kernelspec": {
   "display_name": "Python 3 (ipykernel)",
   "language": "python",
   "name": "python3"
  },
  "language_info": {
   "codemirror_mode": {
    "name": "ipython",
    "version": 3
   },
   "file_extension": ".py",
   "mimetype": "text/x-python",
   "name": "python",
   "nbconvert_exporter": "python",
   "pygments_lexer": "ipython3",
   "version": "3.10.6"
  }
 },
 "nbformat": 4,
 "nbformat_minor": 5
}
